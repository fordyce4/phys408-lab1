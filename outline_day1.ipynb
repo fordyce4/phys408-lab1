{
 "cells": [
  {
   "cell_type": "markdown",
   "metadata": {},
   "source": [
    "# Outline - Jan Tache - 35150135\n",
    "# Lab 1: Michelson Interferometer"
   ]
  },
  {
   "cell_type": "markdown",
   "metadata": {},
   "source": [
    "## Day 1\n",
    "\n",
    "- Familiarize with equipment placements and operation\n",
    "    - How to operate and align HeNe Laser\n",
    "    - How to operate and align white light lamp\n",
    "    - How to operate and align the sodium lamp\n",
    "    - How to operate and align the stage\n",
    "    - How to align the lens assembly\n",
    "    - How to operate and align the stage and servo\n",
    "- Gather some sample data to know how its format and how to process it\n",
    "    - Fringe counts using the translation stage with MATLAB program\n",
    "    - Light source spectrum\n",
    "- Devise a method to get the ZPL\n",
    "- Gather pictures for the different fringe patterns for section 3\n",
    "- Determine the measurement errors of the instruments\n",
    "\n",
    "## Day 2\n",
    "\n",
    "- Gather data for as many sections as possible, starting from section 4\n",
    "    - I predict we'll gather data up to and including section 6: sodium wavelengths\n",
    "\n",
    "## Day 3\n",
    "\n",
    "- Gather data for as many sections as possible, continuing from previous day\n",
    "    - I predict we'll have gathered data for all sections\n",
    "- If after the analysis from last week, it's found that some data needs to be retaken, re-do it if there's time at the end\n",
    "\n",
    "## Day 4\n",
    "\n",
    "- Gather the rest of the data needed\n",
    "- Re-take any data that we think should be improved\n",
    "\n",
    "## Questions\n",
    "\n",
    "Longest to complete:\n",
    "\n",
    "I predict that finding the ZPL will take the longest time since it requires precise alignment.\n",
    "\n",
    "Shortest to complete:\n",
    "\n",
    "I think that finding different fringe patterns should not take too long, for a similar reason in that we are playing with alignments rather than trying to find a precise one"
   ]
  }
 ],
 "metadata": {
  "kernelspec": {
   "display_name": "Octave",
   "language": "octave",
   "name": "octave"
  },
  "language_info": {
   "file_extension": ".m",
   "help_links": [
    {
     "text": "GNU Octave",
     "url": "https://www.gnu.org/software/octave/support.html"
    },
    {
     "text": "Octave Kernel",
     "url": "https://github.com/Calysto/octave_kernel"
    },
    {
     "text": "MetaKernel Magics",
     "url": "https://github.com/calysto/metakernel/blob/master/metakernel/magics/README.md"
    }
   ],
   "mimetype": "text/x-octave",
   "name": "octave",
   "version": "4.2.2"
  }
 },
 "nbformat": 4,
 "nbformat_minor": 2
}
