{
 "cells": [
  {
   "cell_type": "markdown",
   "metadata": {},
   "source": [
    "### Index of refraction of air\n",
    "\n",
    "In this experiment we used the HeNe laser and passed one of the beams through a 10cm vacuum chamber. The beam passes through the vacuum chamber twice, and so has a total path length of 20cm inside the chamber. The path length difference in the glass of the vacuum chamber is not relevant to this experiment since it is kept constant throughout, and we don't need to be at the ZPL point.\n",
    "\n",
    "We first evacuated the air from the chamber, started the vid_capture program and ran it for 2 minutes, then slowly leaked air back into the vacuum chamber. Based on prior reading, we  expect the index of refraction of air at STP to be about 1.00029. The number of expected fringes that should pass between a vacuum and having the chamber full of air again is computed below."
   ]
  },
  {
   "cell_type": "code",
   "execution_count": 1,
   "metadata": {},
   "outputs": [
    {
     "name": "stdout",
     "output_type": "stream",
     "text": [
      "ans =  91.630\n"
     ]
    }
   ],
   "source": [
    "(1-1.00029^-1)*20*10^7/632.8"
   ]
  },
  {
   "cell_type": "markdown",
   "metadata": {},
   "source": [
    "$$(1-1.00029^{-1}) * 20cm * 10^7 \\frac{nm}{cm} \\div 632.8 \\frac{nm}{fringe} \\approx 91.6 \\textrm{ fringes}$$\n",
    "\n",
    "#### Data processing"
   ]
  },
  {
   "cell_type": "code",
   "execution_count": 2,
   "metadata": {},
   "outputs": [
    {
     "data": {
      "image/png": "[encoded data removed]",
      "text/plain": [
       "<IPython.core.display.Image object>"
      ]
     },
     "metadata": {},
     "output_type": "display_data"
    }
   ],
   "source": [
    "v = csvread('test_data-2019-01-23/HeNe-vacuum-120');\n",
    "plot(v)\n",
    "title('Raw HeNe vacuum experiment data')\n",
    "xlabel('sample #')\n",
    "ylabel('intensity (arbitrary units)')"
   ]
  },
  {
   "cell_type": "markdown",
   "metadata": {},
   "source": [
    "Visually it looks like all of the peaks are above 20000 at some point and all of the troughs are below 8000 at some point. So we'll try using a hysteresis based counter."
   ]
  },
  {
   "cell_type": "code",
   "execution_count": 3,
   "metadata": {},
   "outputs": [
    {
     "name": "stdout",
     "output_type": "stream",
     "text": [
      "count =  70\n",
      "counts seem to be consistent\n"
     ]
    }
   ],
   "source": [
    "% count the peaks with hysteresis for counting the max and resetting\n",
    "function count = hysteresis_count(low, high, data)\n",
    "    count = 0;\n",
    "    found_max = 0;\n",
    "    for i=1:length(data)\n",
    "        if (!found_max && data(i) > 20000)\n",
    "            count++;\n",
    "            found_max = 1;\n",
    "        elseif (found_max && data(i) < 8000)\n",
    "            found_max = 0;\n",
    "        end\n",
    "    end\n",
    "end\n",
    "\n",
    "count = hysteresis_count(8000, 20000, v)\n",
    "% perturb hysteresis limits slightly to verify that the count is correct\n",
    "if (hysteresis_count(6000, 22000, v) != count ||\n",
    "    hysteresis_count(10000, 18000, v) != count)\n",
    "    printf 'counts are not the same!!!\\n';\n",
    "else\n",
    "    printf('counts seem to be consistent\\n');\n",
    "end"
   ]
  },
  {
   "cell_type": "markdown",
   "metadata": {},
   "source": [
    "Based on the value we found for STP, the number of peaks we found seems to be okay for its order of magnitude, but it is. Now we compute the index of refraction."
   ]
  },
  {
   "cell_type": "code",
   "execution_count": 4,
   "metadata": {},
   "outputs": [
    {
     "name": "stdout",
     "output_type": "stream",
     "text": [
      "idx =     1.00022152906426\n"
     ]
    }
   ],
   "source": [
    "n_fringe = 70;\n",
    "format long g\n",
    "idx = (1 - n_fringe * 632.8 / 10^7 / 20)^-1"
   ]
  },
  {
   "cell_type": "markdown",
   "metadata": {},
   "source": [
    "We find a value for our index of refraction of air to be 1.00022,\n",
    "which is in a similar order of magnitude, but the offset from 1 is -24% the value at STP.\n",
    "We don't think this large of a difference can be explained by\n",
    "the difference in the air conditions from STP. One of our initial guesses is that the pump\n",
    "is unable to create a perfect vacuum. Also, it could be that the index of refraction in\n",
    "air for shorter wavelengths is quite different from the value we found online.\n",
    "\n",
    "We will try this experiment again next day.\n",
    "\n",
    "\n",
    "\n",
    "\n"
   ]
  }
 ],
 "metadata": {
  "kernelspec": {
   "display_name": "Octave",
   "language": "octave",
   "name": "octave"
  },
  "language_info": {
   "file_extension": ".m",
   "help_links": [
    {
     "text": "GNU Octave",
     "url": "https://www.gnu.org/software/octave/support.html"
    },
    {
     "text": "Octave Kernel",
     "url": "https://github.com/Calysto/octave_kernel"
    },
    {
     "text": "MetaKernel Magics",
     "url": "https://github.com/calysto/metakernel/blob/master/metakernel/magics/README.md"
    }
   ],
   "mimetype": "text/x-octave",
   "name": "octave",
   "version": "4.2.2"
  }
 },
 "nbformat": 4,
 "nbformat_minor": 2
}
