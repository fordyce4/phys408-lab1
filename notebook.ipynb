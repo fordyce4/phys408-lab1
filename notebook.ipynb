{
 "cells": [
  {
   "cell_type": "markdown",
   "metadata": {
    "git": {
     "suppress_outputs": true
    }
   },
   "source": [
    "# Phys 408 - Lab 1 - Michelson Interferometer\n",
    "#### Jan Tache, Javier Velarde"
   ]
  },
  {
   "cell_type": "markdown",
   "metadata": {},
   "source": [
    "## Objectives\n",
    "\n",
    "- To observe and manipulate intereference patterns with different light sources\n",
    "- To use the interfence patterns to determine information about the wavelengths in the light sources and the differences in the beam paths\n",
    "- To use Fourier transform spectroscopy to determine the wavelengths in the different light sources"
   ]
  },
  {
   "cell_type": "markdown",
   "metadata": {},
   "source": [
    "## Day 1 - 2019/01/16"
   ]
  },
  {
   "cell_type": "markdown",
   "metadata": {},
   "source": [
    "Mount sodium lamp and white light lamp on a post with the double ended 90 degree offset clamp.\n",
    "\n",
    "lower right knob is horizontal mirror alignment\n",
    "upper left knob is vertical mirror alignment\n",
    "\n",
    "Issues with APT User program\n",
    " - Would not display anything\n",
    " - Checked USB cable, connection was fine\n",
    " - Checked motor power - it was on\n",
    " - Rebooting the PC worked\n",
    "\n",
    "Note: don't touch the table at all once MATLAB script is running. Any small movements will perturb the interferometer distances slightly. Even walking too strongly will do so.\n",
    "\n",
    "Method to get close to ZPL:\n",
    "\n",
    "1. Use a metre stick and place the mirror on the stage and the 2nd mirror at as close to equal distance from the beam splitter as possible.\n",
    "    - Measure from the closest face of the beam splitter to the front of the mirror\n",
    "1. Use HeNe laser to align mirrors initially\n",
    "1. check that on the outer surface of the beam splitter cube, the two points from one of the split beams were on top of each other\n",
    "    - Do this individually for each mirror\n",
    "1. Then align a piece of paper with a hole in it such that one of the laser beams passes through the hole\n",
    "1. Now put a piece of paper in front of the camera, and adjust the mirrors slightly until the light shows nice interference rings\n",
    "1. Place the diffusing lens in front of the HeNe laser and align it so that the beam still passes through the hole in the paper.\n",
    "1. Adjust the stage using the APT User program to get one large circle on the camera\n"
   ]
  },
  {
   "cell_type": "markdown",
   "metadata": {},
   "source": [
    "Found somewhere close to ZPL at 1.4 unit on stage adjustment the program with HeNe laser.\n",
    "\n",
    "![](images_2019-01-16/2018-01-16-zpl_with_hene.png)"
   ]
  },
  {
   "cell_type": "markdown",
   "metadata": {},
   "source": [
    "After finding the ZPL, we switched to the sodium lamp:\n",
    "\n",
    "1. turn off HeNe laser\n",
    "1. swap the CCD filter to a camera lens\n",
    "1. position the sodium lamp behind a light diffuser\n",
    "1. turn on the sodium lamp - it takes a while to warm up and reach full intensity\n",
    "1. adjust the aperture on the camera lens in order to be able to see the very faint interference pattern\n",
    "\n",
    "Here is an example of an interference pattern that we found on the sodium lamp:\n",
    "\n",
    "![](images_2018-01-16/2018-01-16-circles_moved_mirror_centre.png)"
   ]
  },
  {
   "cell_type": "markdown",
   "metadata": {},
   "source": [
    "Here are some different fringe patterns\n",
    "\n",
    "1 ![](images_2019-01-16/2018-01-16-circles_moved_mirror_centre.png)\n",
    "\n",
    "After aligning with the HeNe laser, we adjusted the stage to get maximum visibility with the mirrors centered\n",
    "    \n",
    "    \n",
    "2 ![](images_2019-01-16/2018-01-16-sodium-maybe-zpl.png)\n",
    "\n",
    "To produce this one, we adjusted the stage slightly from the previous to get desctructive inteference in the middle. Since the inner circle is so large, we assume that this is close to the ZPL.\n",
    "    \n",
    "    \n",
    "3 ![](images_2019-01-16/2018-01-16-vertical_not_centered.png)\n",
    "\n",
    "To produce vertical lines, we moved one of the mirrors using the lower knob to reflect slightly to the right\n",
    "\n",
    "\n",
    "4 ![](images_2019-01-16/2018-01-16-vertical_narrower.png)\n",
    "\n",
    "To produce thinner vertical lines, we moved the mirror from before to reflect even further to the right\n",
    "\n",
    "\n",
    "5 ![](images_2019-01-16/2018-01-16-narrower_off_centre.png)\n",
    "\n",
    "to produce horizontal curved lines, we did a similar procedure to 3 and 4, but used the upper left knob to reflect the image upwards\n",
    "\n",
    "\n",
    "6 ![](images_2019-01-16/2018-01-16-even-narrower_off_centre.png)\n",
    "\n",
    "to produce narrower curved lines, we did a similar procedure to 3 and 4, but used the upper left knob to move the image even further upwards\n",
    "\n",
    "\n",
    "7 ![](images_2019-01-16/2018-01-16-sodium_part_circle.png)\n",
    "\n",
    "To produce diagonal curved lines, we combined movements of both knobs.\n",
    "\n",
    "8 ![](images_2019-01-16/2018-01-16-sodium_zpl_maybe_v2.png)\n",
    "\n",
    "To produce a barely visible fringe pattern, we moved the stage so that the beams  differed by many wavelengths.\n",
    "\n"
   ]
  },
  {
   "cell_type": "markdown",
   "metadata": {},
   "source": [
    "## Day 2 - 2019-01-23"
   ]
  },
  {
   "cell_type": "code",
   "execution_count": 6,
   "metadata": {},
   "outputs": [
    {
     "name": "stdout",
     "output_type": "stream",
     "text": [
      "n_wavelengths =  123.39\n",
      "distance =    3.6355e+04\n"
     ]
    }
   ],
   "source": [
    "% compute expected # of fringes until 1/2 avg wavelength\n",
    "lambda_1 = 588.995; % units: nm\n",
    "lambda_2 = 589.592; % units: nm\n",
    "\n",
    "avg_lambda = (lambda_1 + lambda_2)/4;\n",
    "avg_half_lambda = avg_lambda/4;\n",
    "\n",
    "n_wavelengths = avg_half_lambda / (lambda_2 - lambda_1)\n",
    "distance = avg_lambda * n_wavelengths % units: nm"
   ]
  },
  {
   "cell_type": "markdown",
   "metadata": {},
   "source": [
    "The distance from maximum visibility to minimum visibility is 36 $\\mu m$ - so we should make the stage travel at least 72 $\\mu m$ to ensure we have sufficient information.\n",
    "\n",
    "From looking at the data, it seems that it's pretty clear where the garbage data is located, so we can do it specifically on a file-by-file basis.\n",
    "\n",
    "### Sodium coherence length and emission wavelengths\n",
    "Below is the data processing for the sodium coherence length."
   ]
  },
  {
   "cell_type": "code",
   "execution_count": 7,
   "metadata": {},
   "outputs": [
    {
     "data": {
      "image/png": "[encoded data removed]",
      "text/plain": [
       "<IPython.core.display.Image object>"
      ]
     },
     "metadata": {},
     "output_type": "display_data"
    }
   ],
   "source": [
    "v_orig = csvread('test_data-2019-01-23/2019-01-23-sodium-coherence-0.72-0.001');\n",
    "\n",
    "plot(v_orig)\n",
    "title('Raw intensity data for sodium lamp, 0.72mm distance, 0.001mm ')\n",
    "xlabel('sample')\n",
    "ylabel('intensity (arbitrary units)')"
   ]
  },
  {
   "cell_type": "code",
   "execution_count": 8,
   "metadata": {},
   "outputs": [
    {
     "data": {
      "image/png": "[encoded data removed]",
      "text/plain": [
       "<IPython.core.display.Image object>"
      ]
     },
     "metadata": {},
     "output_type": "display_data"
    }
   ],
   "source": [
    "% truncate the data to keep the useful parts\n",
    "v = v_orig(1000:42000);\n",
    "% normalize the oscillations to be around 0\n",
    "v = v - sum(v) / length(v);\n",
    "% square the intensity\n",
    "v = v.^2;\n",
    "\n",
    "% smooth the data with a running average\n",
    "v2 = [];\n",
    "for i = 1:length(v)-1500\n",
    "    v2(i) = sum(v(i:i+1499)) / 1500;\n",
    "end\n",
    "\n",
    "plot(v2)\n",
    "title('Processed intensity data')\n",
    "xlabel('sample')\n",
    "ylabel('intensity (arbitrary units)')"
   ]
  },
  {
   "cell_type": "code",
   "execution_count": 9,
   "metadata": {},
   "outputs": [
    {
     "name": "stdout",
     "output_type": "stream",
     "text": [
      "maxima_diffs =\n",
      "\n",
      "   8324   8717   8519\n",
      "\n",
      "minima_diffs =\n",
      "\n",
      "   8644   8602   8648   8617\n",
      "\n"
     ]
    }
   ],
   "source": [
    "% find maxima in smoothed data\n",
    "\n",
    "maxima_idx = [];\n",
    "[_, i] = max(v2(8000:10000));\n",
    "maxima_idx(end+1) = i + 8000 - 1;\n",
    "[_, i] = max(v2(15000:18000));\n",
    "maxima_idx(end+1) = i + 15000 - 1;\n",
    "[_, i] = max(v2(24000:27000));\n",
    "maxima_idx(end+1) = i + 24000 - 1;\n",
    "[_, i] = max(v2(32000:35000));\n",
    "maxima_idx(end+1) = i + 32000 - 1;\n",
    "\n",
    "maxima_diffs = diff(maxima_idx)\n",
    "\n",
    "% find minima in smoothed data\n",
    "\n",
    "minima_idx = [];\n",
    "[_, i] = min(v2(3000:5000));\n",
    "minima_idx(end+1) = i + 3000 - 1;\n",
    "[_, i] = min(v2(12000:14000));\n",
    "minima_idx(end+1) = i + 12000 - 1;\n",
    "[_, i] = min(v2(21000:24000));\n",
    "minima_idx(end+1) = i + 21000 - 1;\n",
    "[_, i] = min(v2(29000:31000));\n",
    "minima_idx(end+1) = i + 29000 - 1;\n",
    "[_, i] = min(v2(37000:39500));\n",
    "minima_idx(end+1) = i + 37000 - 1;\n",
    "\n",
    "minima_diffs = diff(minima_idx)"
   ]
  },
  {
   "cell_type": "code",
   "execution_count": 10,
   "metadata": {},
   "outputs": [
    {
     "name": "stdout",
     "output_type": "stream",
     "text": [
      "average_seconds =  286.05\n",
      "stddev_seconds =  4.2727\n"
     ]
    }
   ],
   "source": [
    "% Average sample diff\n",
    "average_sample_diff = mean([maxima_diffs minima_diffs]);\n",
    "stddev_avg_sample_diff = std([maxima_diffs minima_diffs]);\n",
    "\n",
    "% Seconds elpased\n",
    "average_seconds = average_sample_diff / 30\n",
    "stddev_seconds = stddev_avg_sample_diff / 30"
   ]
  },
  {
   "cell_type": "markdown",
   "metadata": {},
   "source": [
    "Using the seconds we can determine the distance between the extremes with our stage calibration velocity.\n",
    "\n",
    "This distance $D$ is equal to $N\\lambda_1 = (N+1)\\lambda_2$, where $\\lambda_1, \\lambda_2$ are the two emission wavelengths of the sodium lamp and $\\lambda_1 > \\lambda_2$\n",
    "\n",
    "We can use this to determine the wavelength difference between the two emission wavelengths with the formula:\n",
    "\n",
    "$$\\Delta\\lambda = \\frac{\\lambda_1\\lambda_2}{D}$$\n",
    "\n",
    "We know $\\lambda_1$ and $\\lambda_2$ are close to each other, so we can replace the product $\\lambda_1\\lambda_2$ with the square of their average: $\\lambda^2$ to get:\n",
    "\n",
    "$$\\Delta\\lambda = \\frac{\\lambda^2}{D}$$"
   ]
  },
  {
   "cell_type": "markdown",
   "metadata": {},
   "source": [
    "### Index of refraction of air\n",
    "\n",
    "In this experiment we used the HeNe laser and passed one of the beams through a 10cm vacuum chamber. The beam passes through the vacuum chamber twice, and so has a total path length of 20cm inside the chamber. The path length difference in the glass of the vacuum chamber is not relevant to this experiment since it is kept constant throughout, and we don't need to be at the ZPL point.\n",
    "\n",
    "We first evacuated the air from the chamber, started the vid_capture program and ran it for 2 minutes, then slowly leaked air back into the vacuum chamber. Based on prior reading, we  expect the index of refraction of air at STP to be about 1.00029. The number of expected fringes that should pass between a vacuum and having the chamber full of air again is computed below."
   ]
  },
  {
   "cell_type": "code",
   "execution_count": 1,
   "metadata": {},
   "outputs": [
    {
     "name": "stdout",
     "output_type": "stream",
     "text": [
      "ans =  91.630\n"
     ]
    }
   ],
   "source": [
    "(1-1.00029^-1)*20*10^7/632.8"
   ]
  },
  {
   "cell_type": "markdown",
   "metadata": {},
   "source": [
    "$$(1-1.00029^{-1}) * 20cm * 10^7 \\frac{nm}{cm} \\div 632.8 \\frac{nm}{fringe} \\approx 91.6 \\textrm{ fringes}$$\n",
    "\n",
    "#### Data processing"
   ]
  },
  {
   "cell_type": "code",
   "execution_count": 2,
   "metadata": {},
   "outputs": [
    {
     "data": {
      "image/png": "[encoded data removed]",
      "text/plain": [
       "<IPython.core.display.Image object>"
      ]
     },
     "metadata": {},
     "output_type": "display_data"
    }
   ],
   "source": [
    "v = csvread('test_data-2019-01-23/HeNe-vacuum-120');\n",
    "plot(v)\n",
    "title('Raw HeNe vacuum experiment data')\n",
    "xlabel('sample #')\n",
    "ylabel('intensity (arbitrary units)')"
   ]
  },
  {
   "cell_type": "markdown",
   "metadata": {},
   "source": [
    "Visually it looks like all of the peaks are above 20000 at some point and all of the troughs are below 8000 at some point. So we'll try using a hysteresis based counter."
   ]
  },
  {
   "cell_type": "code",
   "execution_count": 3,
   "metadata": {},
   "outputs": [
    {
     "name": "stdout",
     "output_type": "stream",
     "text": [
      "count =  70\n",
      "counts seem to be consistent\n"
     ]
    }
   ],
   "source": [
    "% count the peaks with hysteresis for counting the max and resetting\n",
    "function count = hysteresis_count(low, high, data)\n",
    "    count = 0;\n",
    "    found_max = 0;\n",
    "    for i=1:length(data)\n",
    "        if (!found_max && data(i) > 20000)\n",
    "            count++;\n",
    "            found_max = 1;\n",
    "        elseif (found_max && data(i) < 8000)\n",
    "            found_max = 0;\n",
    "        end\n",
    "    end\n",
    "end\n",
    "\n",
    "count = hysteresis_count(8000, 20000, v)\n",
    "% perturb hysteresis limits slightly to verify that the count is correct\n",
    "if (hysteresis_count(6000, 22000, v) != count ||\n",
    "    hysteresis_count(10000, 18000, v) != count)\n",
    "    printf 'counts are not the same!!!\\n';\n",
    "else\n",
    "    printf('counts seem to be consistent\\n');\n",
    "end"
   ]
  },
  {
   "cell_type": "markdown",
   "metadata": {},
   "source": [
    "Based on the value we found for STP, the number of peaks we found seems to be okay for its order of magnitude, but it is. Now we compute the index of refraction."
   ]
  },
  {
   "cell_type": "code",
   "execution_count": 4,
   "metadata": {},
   "outputs": [
    {
     "name": "stdout",
     "output_type": "stream",
     "text": [
      "idx =     1.00022152906426\n"
     ]
    }
   ],
   "source": [
    "n_fringe = 70;\n",
    "format long g\n",
    "idx = (1 - n_fringe * 632.8 / 10^7 / 20)^-1"
   ]
  },
  {
   "cell_type": "markdown",
   "metadata": {},
   "source": [
    "We find a value for our index of refraction of air to be 1.00022,\n",
    "which is in a similar order of magnitude, but the offset from 1 is -24% the value at STP.\n",
    "We don't think this large of a difference can be explained by\n",
    "the difference in the air conditions from STP. One of our initial guesses is that the pump\n",
    "is unable to create a perfect vacuum. Also, it could be that the index of refraction in\n",
    "air for shorter wavelengths is quite different from the value we found online.\n",
    "\n",
    "We will try this experiment again next day.\n",
    "\n",
    "\n",
    "\n",
    "\n"
   ]
  }
 ],
 "metadata": {
  "kernelspec": {
   "display_name": "Octave",
   "language": "octave",
   "name": "octave"
  },
  "language_info": {
   "file_extension": ".m",
   "help_links": [
    {
     "text": "GNU Octave",
     "url": "https://www.gnu.org/software/octave/support.html"
    },
    {
     "text": "Octave Kernel",
     "url": "https://github.com/Calysto/octave_kernel"
    },
    {
     "text": "MetaKernel Magics",
     "url": "https://github.com/calysto/metakernel/blob/master/metakernel/magics/README.md"
    }
   ],
   "mimetype": "text/x-octave",
   "name": "octave",
   "version": "4.2.2"
  }
 },
 "nbformat": 4,
 "nbformat_minor": 2
}
