{
 "cells": [
  {
   "cell_type": "markdown",
   "metadata": {},
   "source": [
    "### Lab 1 - Michelson Interferometer\n",
    "#### Jan Tache, Javier Velarde"
   ]
  },
  {
   "cell_type": "markdown",
   "metadata": {},
   "source": [
    "## Objectives\n",
    "\n",
    "- To observe and manipulate intereference patterns with different light sources\n",
    "- To use the interfence patterns to determine information about the wavelengths in the light sources and the differences in the beam paths\n",
    "- To use Fourier transform spectroscopy to determine the wavelengths in the different light sources"
   ]
  },
  {
   "cell_type": "markdown",
   "metadata": {},
   "source": [
    "## Day 1 - 2018/01/16"
   ]
  },
  {
   "cell_type": "markdown",
   "metadata": {},
   "source": [
    "Mount sodium lamp and white light lamp on a post with the double ended 90 degree offset clamp.\n",
    "\n",
    "lower right knob is horizontal mirror alignment\n",
    "upper left knob is vertical mirror alignment\n",
    "\n",
    "Issues with APT User program\n",
    " - Would not display anything\n",
    " - Checked USB cable, connection was fine\n",
    " - Checked motor power - it was on\n",
    " - Rebooting the PC worked\n",
    "\n",
    "Note: don't touch the table at all once MATLAB script is running. Any small movements will perturb the interferometer distances slightly. Even walking too hard will do so.\n",
    "\n",
    "Method to get close to ZPL:\n",
    "\n",
    "1. Use a metre stick and place the mirror on the stage and the 2nd mirror at as close to equal distance from the beam splitter as possible.\n",
    "    - Measure from the closest face of the beam splitter to the front of the mirror\n",
    "1. Use HeNe laser to align mirrors initially\n",
    "1. check that on the outer surface of the beam splitter cube, the two points from one of the split beams were on top of each other\n",
    "    - Do this individually for each mirror\n",
    "1. Then align a piece of paper with a hole in it such that one of the laser beams passes through the hole\n",
    "1. Now put a piece of paper in front of the camera, and adjust the mirrors slightly until the light shows nice interference rings\n",
    "1. Place the diffusing lens in front of the HeNe laser and align it so that the beam still passes through the hole in the paper.\n",
    "1. Adjust the stage using the APT User program to get one large circle on the camera\n"
   ]
  },
  {
   "cell_type": "markdown",
   "metadata": {},
   "source": [
    "Found somewhere close to ZPL at 1.4 unit on stage adjustment the program with HeNe laser.\n",
    "![](images_2018-01-16/2018-01-16-zpl_with_hene.png)"
   ]
  },
  {
   "cell_type": "markdown",
   "metadata": {},
   "source": [
    "After finding the ZPL, we switched to the sodium lamp:\n",
    "\n",
    "1. turn off HeNe laser\n",
    "1. swap the CCD filter to a camera lens\n",
    "1. position the sodium lamp behind a light diffuser\n",
    "1. turn on the sodium lamp - it takes a while to warm up and reach full intensity\n",
    "1. adjust the aperture on the camera lens in order to be able to see the very faint interference pattern\n",
    "\n",
    "Here is an example of an interference pattern that we found on the sodium lamp:\n",
    "\n",
    "![](images_2018-01-16/2018-01-16-circles_moved_mirror_centre.png)"
   ]
  },
  {
   "cell_type": "markdown",
   "metadata": {},
   "source": [
    "## Section 5.3 Finding the Fringes\n",
    "\n",
    "Here are some different fringe patterns\n",
    "\n",
    "1 ![](images_2018-01-16/2018-01-16-circles_moved_mirror_centre.png)\n",
    "\n",
    "After aligning with the HeNe laser, we adjusted the stage to get maximum visibility with the mirrors centered\n",
    "    \n",
    "    \n",
    "2 ![](images_2018-01-16/2018-01-16-sodium-maybe-zpl.png)\n",
    "\n",
    "To produce this one, we adjusted the stage slightly from the previous to get desctructive inteference in the middle. Since the inner circle is so large, we assume that this is close to the ZPL.\n",
    "    \n",
    "    \n",
    "3 ![](images_2018-01-16/2018-01-16-vertical_not_centered.png)\n",
    "\n",
    "To produce vertical lines, we moved one of the mirrors using the lower knob to reflect slightly to the right\n",
    "\n",
    "\n",
    "4 ![](images_2018-01-16/2018-01-16-vertical_narrower.png)\n",
    "\n",
    "To produce thinner vertical lines, we moved the mirror from before to reflect even further to the right\n",
    "\n",
    "\n",
    "5 ![](images_2018-01-16/2018-01-16-narrower_off_centre.png)\n",
    "\n",
    "to produce horizontal curved lines, we did a similar procedure to 3 and 4, but used the upper left knob to reflect the image upwards\n",
    "\n",
    "\n",
    "6 ![](images_2018-01-16/2018-01-16-even-narrower_off_centre.png)\n",
    "\n",
    "to produce narrower curved lines, we did a similar procedure to 3 and 4, but used the upper left knob to move the image even further upwards\n",
    "\n",
    "\n",
    "7 ![](images_2018-01-16/2018-01-16-sodium_part_circle.png)\n",
    "\n",
    "To produce diagonal curved lines, we combined movements of both knobs.\n",
    "\n",
    "8 ![](images_2018-01-16/2018-01-16-sodium_zpl_maybe_v2.png)\n",
    "\n",
    "To produce a barely visible fringe pattern, we moved the stage so that the beams  differed by many wavelengths.\n",
    "\n"
   ]
  },
  {
   "cell_type": "markdown",
   "metadata": {},
   "source": [
    "### Answering questions in 5.3:\n",
    "\n",
    "1) \n",
    "You can compute the fringe pattern for the Michelson interferometer by modeling the system as two point sources separated by some distance (see Fig. 5.3).\n",
    "Justify why this is a good model for the interferometer you are using in the lab.\n",
    "\n",
    "2) Write down the electric field amplitudes ($U_1$ and $U_2$) from two spherical wave sources and derive an expression for the total intensity $I = \\left|U_1 +U_2\\right|^2$ as seen on the observation screen.\n",
    "\n",
    "3) Using this expression, describe how the intensity on axis varies with d.\n",
    "\n",
    "4) Describe what happens to the interference pattern if you change d along the z-axis. Why might knowing this information be useful in this lab?\n",
    "\n",
    "\n",
    "\n"
   ]
  },
  {
   "cell_type": "markdown",
   "metadata": {},
   "source": [
    "### Answering questions in 5.4:\n",
    "1) Do you think the stage will move exactly the distance that you set? Why\n",
    "or why not?\n",
    "\n",
    "The stage will not move the exact distance set, and will not move at the exact velocity set. The reason for this is that there is imprecision in every instrument, and I doubt that this mechanical stage is calibrated exactly to the readings.\n",
    "\n",
    "2) What does it mean to calibrate the translation stage? What two pieces of\n",
    "information do you need to find the calibration factor?\n",
    "\n",
    "3) What distance does the mirror need to move such that one fringe passes\n",
    "a reference point on the CCD camera?\n",
    "\n",
    "4) Calibrate the interferometer at two different speeds. You should pick 1\n",
    "μm/s to be one of the speeds."
   ]
  },
  {
   "cell_type": "code",
   "execution_count": 10,
   "metadata": {},
   "outputs": [
    {
     "name": "stdout",
     "output_type": "stream",
     "text": [
      "n_wavelengths =  123.39\n",
      "distance =    3.6355e+04\n"
     ]
    }
   ],
   "source": [
    "% compute expected # of fringes until 1/2 avg wavelength\n",
    "lambda_1 = 588.995; % units: nm\n",
    "lambda_2 = 589.592; % units: nm\n",
    "avg_lambda = (lambda_1 + lambda_2)/4;\n",
    "avg_half_lambda = avg_lambda/4;\n",
    "n_wavelengths = avg_half_lambda / (lambda_2 - lambda_1)\n",
    "distance = avg_lambda * fringes % units: nm"
   ]
  },
  {
   "cell_type": "markdown",
   "metadata": {},
   "source": [
    "The distance from maximum visibility to minimum visibility is 36 $\\mu m$ - so we'll make the stage travel 144 $\\mu m$ to ensure we have sufficient information.\n",
    "\n",
    "Moving to start position by estimate took less than 10s - will remove 20s just to be sure at the beginning, so remove the first 600 frames and the last 600 frames.\n",
    "\n",
    "Actually from looking at the data, it seems that it's pretty clear where the garbage data is located, so we can do it more specifically on a case-by-case basis.\n",
    "\n",
    "Below is the raw data that we will use for sodium coherence length."
   ]
  },
  {
   "cell_type": "code",
   "execution_count": 31,
   "metadata": {},
   "outputs": [
    {
     "data": {
      "image/png": "[encoded data removed]",
      "text/plain": [
       "<IPython.core.display.Image object>"
      ]
     },
     "metadata": {},
     "output_type": "display_data"
    }
   ],
   "source": [
    "pkg load signal\n",
    "v = csvread('test_data-2019-01-23/2019-01-23-sodium-coherence-0.72-0.001');\n",
    "v = v(6000:40000);\n",
    "v = v - sum(v)/length(v);\n",
    "#[b, a] = butter(1, 1/10000);\n",
    "#plot(filtfilt(b, a, v));\n",
    "plot(v)\n",
    "title('Intensity of data samples for sodium lamp, 0.72mm distance, 0.001mm ')\n",
    "xlabel('sample')\n",
    "ylabel('intensity (arbitrary units)')"
   ]
  },
  {
   "cell_type": "code",
   "execution_count": null,
   "metadata": {},
   "outputs": [],
   "source": []
  }
 ],
 "metadata": {
  "kernelspec": {
   "display_name": "Octave",
   "language": "octave",
   "name": "octave"
  },
  "language_info": {
   "file_extension": ".m",
   "help_links": [
    {
     "text": "GNU Octave",
     "url": "https://www.gnu.org/software/octave/support.html"
    },
    {
     "text": "Octave Kernel",
     "url": "https://github.com/Calysto/octave_kernel"
    },
    {
     "text": "MetaKernel Magics",
     "url": "https://github.com/calysto/metakernel/blob/master/metakernel/magics/README.md"
    }
   ],
   "mimetype": "text/x-octave",
   "name": "octave",
   "version": "4.2.2"
  }
 },
 "nbformat": 4,
 "nbformat_minor": 2
}
