{
 "cells": [
  {
   "cell_type": "markdown",
   "metadata": {},
   "source": [
    "# Lab 1 - Michelson Interferometer\n",
    "#### Jan Tache, Javier Velarde"
   ]
  },
  {
   "cell_type": "markdown",
   "metadata": {},
   "source": [
    "## Objectives\n",
    "\n",
    "- To observe and manipulate intereference patterns with different light sources\n",
    "- To use the interfence patterns to determine information about the wavelengths in the light sources and the differences in the beam paths\n",
    "- To use Fourier transform spectroscopy to determine the wavelengths in the different light sources"
   ]
  },
  {
   "cell_type": "markdown",
   "metadata": {},
   "source": [
    "## Day 1 - 2018/01/16"
   ]
  },
  {
   "cell_type": "markdown",
   "metadata": {},
   "source": [
    "Mount sodium lamp and white light lamp on a post with the double ended 90 degree offset clamp.\n",
    "\n",
    "lower right knob is horizontal mirror alignment\n",
    "upper left knob is vertical mirror alignment\n",
    "\n",
    "Issues with APT User program\n",
    " - Would not display anything\n",
    " - Checked USB cable, connection was fine\n",
    " - Checked motor power - it was on\n",
    " - Rebooting the PC worked\n",
    "\n",
    "Note: don't touch the table at all once MATLAB script is running. Any small movements will perturb the interferometer distances slightly. Even walking too hard will do so.\n",
    "\n",
    "Method to get close to ZPL:\n",
    "\n",
    "1. Use a metre stick and place the mirror on the stage and the 2nd mirror at as close to equal distance from the beam splitter as possible.\n",
    "    - Measure from the closest face of the beam splitter to the front of the mirror\n",
    "1. Use HeNe laser to align mirrors initially\n",
    "1. check that on the outer surface of the beam splitter cube, the two points from one of the split beams were on top of each other\n",
    "    - Do this individually for each mirror\n",
    "1. Then align a piece of paper with a hole in it such that one of the laser beams passes through the hole\n",
    "1. Now put a piece of paper in front of the camera, and adjust the mirrors slightly until the light shows nice interference rings\n",
    "1. Place the diffusing lens in front of the HeNe laser and align it so that the beam still passes through the hole in the paper.\n",
    "1. Adjust the stage using User(INSERT PROPER NAME HERE) program to get one large circle on the camera\n"
   ]
  },
  {
   "cell_type": "markdown",
   "metadata": {},
   "source": [
    "Found somewhere close to ZPL at 1.4 unit on stage adjustment the program with HeNe laser.\n",
    "![](images_2018-01-16/2018-01-16-zpl_with_hene.png)"
   ]
  },
  {
   "cell_type": "markdown",
   "metadata": {},
   "source": [
    "After finding the ZPL, we switched to the sodium lamp:\n",
    "\n",
    "1. turn off HeNe laser\n",
    "1. swap the CCD filter to a camera lens\n",
    "1. position the sodium lamp behind a light diffuser\n",
    "1. turn on the sodium lamp - it takes a while to warm up and reach full intensity\n",
    "1. adjust the aperture on the camera lens in order to be able to see the very faint interference pattern\n",
    "\n",
    "Here is an example of an interference pattern that we found on the sodium lamp:\n",
    "\n",
    "![](images_2018-01-16/2018-01-16-circles_moved_mirror_centre.png)"
   ]
  },
  {
   "cell_type": "markdown",
   "metadata": {},
   "source": [
    "## Section 5.3 Finding the Fringes\n",
    "\n",
    "Here are some different fringe patterns\n",
    "\n",
    "1. ![](images_2018-01-16/2018-01-16-circles_moved_mirror_centre.png)\n",
    "\n",
    "After aligning with the HeNe laser, we adjusted the stage to get maximum visibility with the mirrors centered\n",
    "    \n",
    "    \n",
    "2. ![](images_2018-01-16/2018-01-16-sodium-maybe-zpl.png)\n",
    "\n",
    "To produce this one, we adjusted the stage slightly from the previous to get desctructive inteference in the middle. Since the inner circle is so large, we assume that this is close to the ZPL.\n",
    "    \n",
    "    \n",
    "3. ![](images_2018-01-16/2018-01-16-vertical_not_centered.png)\n",
    "\n",
    "To produce vertical lines, we moved one of the mirrors using the lower knob to reflect slightly to the right\n",
    "\n",
    "\n",
    "4. ![](images_2018-01-16/2018-01-16-vertical_narrower.png)\n",
    "\n",
    "To produce thinner vertical lines, we moved the mirror from before to reflect even further to the right\n",
    "\n",
    "\n",
    "5. ![](images_2018-01-16/2018-01-16-narrower_off_centre.png)\n",
    "\n",
    "to produce horizontal curved lines, we did a similar procedure to 3 and 4, but used the upper left knob to reflect the image upwards\n",
    "\n",
    "\n",
    "6. ![](images_2018-01-16/2018-01-16-even-narrower_off_centre.png)\n",
    "\n",
    "to produce narrower curved lines, we did a similar procedure to 3 and 4, but used the upper left knob to move the image even further upwards\n",
    "\n",
    "\n",
    "7. ![](images_2018-01-16/2018-01-16-sodium_part_circle.png)\n",
    "\n",
    "To produce diagonal curved lines, we combined movements of both knobs.\n",
    "\n",
    "8. ![](images_2018-01-16/2018-01-16-sodium_zpl_maybe_v2.png)\n",
    "\n",
    "To produce a barely visible fringe pattern, we moved the stage so that the beams  differed by many wavelengths.\n",
    "\n"
   ]
  },
  {
   "cell_type": "markdown",
   "metadata": {},
   "source": [
    "Answering the questions:\n",
    "\n",
    "1. Justify why this is a good model for the interferometer you are using in the lab.\n",
    "\n",
    "2. Write down the electric field amplitudes ($U_1$ and $U_2$) from two spherical wave sources and derive an expression for the total intensity $I = |U_1 +U_2|^2$ as seen on the observation screen.\n",
    "\n",
    "3. Using this expression, describe how the intensity on axis varies with d.\n",
    "\n",
    "4. Describe what happens to the interference pattern if you change d along the z-axis. Why might knowing this information be useful in this lab?\n",
    "\n",
    "\n",
    "\n"
   ]
  },
  {
   "cell_type": "code",
   "execution_count": null,
   "metadata": {},
   "outputs": [],
   "source": []
  }
 ],
 "metadata": {
  "kernelspec": {
   "display_name": "Octave",
   "language": "octave",
   "name": "octave"
  },
  "language_info": {
   "file_extension": ".m",
   "help_links": [
    {
     "text": "GNU Octave",
     "url": "https://www.gnu.org/software/octave/support.html"
    },
    {
     "text": "Octave Kernel",
     "url": "https://github.com/Calysto/octave_kernel"
    },
    {
     "text": "MetaKernel Magics",
     "url": "https://github.com/calysto/metakernel/blob/master/metakernel/magics/README.md"
    }
   ],
   "mimetype": "text/x-octave",
   "name": "octave",
   "version": "4.2.2"
  }
 },
 "nbformat": 4,
 "nbformat_minor": 2
}
